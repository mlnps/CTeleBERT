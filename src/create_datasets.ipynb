{
 "cells": [
  {
   "cell_type": "markdown",
   "id": "303ac353-d8a5-434c-b46e-ca9d26a5d473",
   "metadata": {},
   "source": [
    "# Create train, test, val Dataset"
   ]
  },
  {
   "cell_type": "markdown",
   "id": "8efc3b50-7cfb-4607-803d-efa6d3b8a760",
   "metadata": {},
   "source": [
    "### (Was adapted for whole Telegram Corpus)"
   ]
  },
  {
   "cell_type": "code",
   "execution_count": null,
   "id": "f3f210aa-92ea-42aa-8716-2abb3ef2df3a",
   "metadata": {},
   "outputs": [],
   "source": [
    "import pandas as pd\n",
    "import helpers"
   ]
  },
  {
   "cell_type": "code",
   "execution_count": null,
   "id": "def10a05-c7cd-4365-a1b8-274ceb8950e9",
   "metadata": {},
   "outputs": [],
   "source": [
    "import helpers"
   ]
  },
  {
   "cell_type": "code",
   "execution_count": null,
   "id": "1a6b7a6d-399f-46d8-993c-aaeff6919ddd",
   "metadata": {},
   "outputs": [],
   "source": [
    "config = yaml.safe_load(open('config.yaml'))"
   ]
  },
  {
   "cell_type": "code",
   "execution_count": null,
   "id": "718b291a-4707-470a-a113-d67a3b617fde",
   "metadata": {},
   "outputs": [],
   "source": [
    "SAMPLING_SEED = config['seeds']['sampling_seed']"
   ]
  },
  {
   "cell_type": "markdown",
   "id": "a15101c3-8045-4c95-8f08-f5e5adb56a84",
   "metadata": {},
   "source": [
    "## Load raw data"
   ]
  },
  {
   "cell_type": "code",
   "execution_count": null,
   "id": "0affd95c-2997-4d6e-861c-af40d5d8a2d0",
   "metadata": {},
   "outputs": [],
   "source": [
    "path_to_data = \"\""
   ]
  },
  {
   "cell_type": "code",
   "execution_count": null,
   "id": "2b6fabcc-9688-401b-b1d5-bba4ea97ca16",
   "metadata": {},
   "outputs": [],
   "source": [
    "data = pd.read_csv(\"path_to_data\", index_col=0)"
   ]
  },
  {
   "cell_type": "code",
   "execution_count": null,
   "id": "dd7c0d48-adeb-4f69-aa9e-bfd8fb6a73c2",
   "metadata": {},
   "outputs": [],
   "source": [
    "data.conspiracy.value_counts()"
   ]
  },
  {
   "cell_type": "code",
   "execution_count": null,
   "id": "7c29d63e-8252-42f6-b823-551b8afa2789",
   "metadata": {},
   "outputs": [],
   "source": [
    "# filter for source\n",
    "df = data.loc[data.source=='telegram']\n",
    "print('Length of selected source:', len(df))"
   ]
  },
  {
   "cell_type": "markdown",
   "id": "ad94a350-8ec1-4f92-a862-1f646b5818b0",
   "metadata": {},
   "source": [
    "## Stance and Sub-label Filtering"
   ]
  },
  {
   "cell_type": "code",
   "execution_count": null,
   "id": "f2915bf7-7c17-4250-85be-cad3de5d334f",
   "metadata": {},
   "outputs": [],
   "source": [
    "df = df.loc[df.disbelief!='Yes'] # remove disbelief \n",
    "df = df.loc[((df.belief=='Yes') | (df.authenticating=='Yes') | (df.directive=='Yes') | (df['rhetorical question']=='Yes')) | (df.conspiracy=='No')] # keep only records with no ct or at least one of mentioned ct sub stance \n",
    "print('Length after stance selection:', len(df))\n",
    "# reference\n",
    "df = df.loc[~((df.reference=='Yes') & (df.actor=='No') & (df.strategy=='No') & (df.goal=='No'))] # remove references if the only sublabel\n",
    "print('Length after reference removal:', len(df))"
   ]
  },
  {
   "cell_type": "code",
   "execution_count": null,
   "id": "12641a6e-59e6-406f-8f00-ca1f14e6d96e",
   "metadata": {},
   "outputs": [],
   "source": [
    "df['conspiracy'] = df['conspiracy'].map({'Yes':1, 'No': 0})\n",
    "df.rename(columns={'conspiracy': \"label\"}, inplace=True)"
   ]
  },
  {
   "cell_type": "code",
   "execution_count": null,
   "id": "f4936561-53f5-4462-9d1a-f4d612346a6f",
   "metadata": {},
   "outputs": [],
   "source": [
    "df = df[~df['no_footer_no_replacement_words'].isna()]"
   ]
  },
  {
   "cell_type": "code",
   "execution_count": null,
   "id": "b7903a12-7599-44f5-8faa-bdc6a4639705",
   "metadata": {},
   "outputs": [],
   "source": [
    "rel_columns = ['text', 'message_id', \n",
    "       'label', 'pandemic reference', 'no_footer',\n",
    "       'no_footer_no_replacement_words', 'no_replacement_words',\n",
    "       'no_footer_no_emoji', 'no_footer_no_replacement_words_no_emoji',\n",
    "       'no_replacement_words_no_emoji']"
   ]
  },
  {
   "cell_type": "code",
   "execution_count": null,
   "id": "226d7b72-fb32-4978-a836-2d2f555c0401",
   "metadata": {},
   "outputs": [],
   "source": [
    "df = df[rel_columns]"
   ]
  },
  {
   "cell_type": "code",
   "execution_count": null,
   "id": "6a04691d-3a2b-4ef3-ae69-0cc88827baf3",
   "metadata": {},
   "outputs": [],
   "source": [
    "df.rename(columns={\"text\": \"original_text\"}, inplace=True)"
   ]
  },
  {
   "cell_type": "markdown",
   "id": "5a0e3ed3-8e30-49a3-83ad-d3e50f958cda",
   "metadata": {},
   "source": [
    "## Train-Test-Split"
   ]
  },
  {
   "cell_type": "code",
   "execution_count": null,
   "id": "3fc95c6e-efc1-4673-af59-6f0f3ea77d4f",
   "metadata": {},
   "outputs": [],
   "source": [
    "# split data into train, test & val\n",
    "\n",
    "train = df.sample(frac = 0.8, random_state=SAMPLING_SEED)\n",
    "val = df.drop(train.index).sample(frac=0.5, random_state=SAMPLING_SEED)\n",
    "test = df.drop((train.index|val.index))\n",
    "\n",
    "print(len(train), len(val), len(test))"
   ]
  },
  {
   "cell_type": "code",
   "execution_count": null,
   "id": "7f37e140-9c06-4441-94ac-29b1721d5a42",
   "metadata": {},
   "outputs": [],
   "source": [
    "#train.to_pickle(\"data/train.pkl\")  \n",
    "#test.to_pickle(\"data/test.pkl\")  \n",
    "#val.to_pickle(\"data/val.pkl\")  "
   ]
  }
 ],
 "metadata": {
  "kernelspec": {
   "display_name": "transwandb",
   "language": "python",
   "name": "transwandb"
  },
  "language_info": {
   "codemirror_mode": {
    "name": "ipython",
    "version": 3
   },
   "file_extension": ".py",
   "mimetype": "text/x-python",
   "name": "python",
   "nbconvert_exporter": "python",
   "pygments_lexer": "ipython3",
   "version": "3.10.8"
  }
 },
 "nbformat": 4,
 "nbformat_minor": 5
}
