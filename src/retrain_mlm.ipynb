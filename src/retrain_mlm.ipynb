{
 "cells": [
  {
   "cell_type": "code",
   "execution_count": null,
   "id": "de499f17-6b2e-40e3-a37f-c196efb055c2",
   "metadata": {},
   "outputs": [],
   "source": [
    "import multiprocessing\n",
    "import pandas as pd\n",
    "import numpy as np\n",
    "import torch\n",
    "import transformers\n",
    "import import_ipynb\n",
    "import os\n",
    "import wandb\n",
    "\n",
    "from datasets import Dataset\n",
    "from transformers import AutoModelForMaskedLM\n",
    "from transformers import AutoTokenizer, AutoConfig\n",
    "from transformers import BertForMaskedLM, DistilBertForMaskedLM\n",
    "from transformers import BertTokenizer, DistilBertTokenizer\n",
    "from transformers import Trainer, TrainingArguments, EarlyStoppingCallback\n",
    "from transformers import DataCollatorForLanguageModeling"
   ]
  },
  {
   "cell_type": "markdown",
   "id": "7a7958c7-e5d6-4d72-ade7-468950893e18",
   "metadata": {},
   "source": [
    "## Setup W&B, Reproducability, Torch Device"
   ]
  },
  {
   "cell_type": "code",
   "execution_count": null,
   "id": "04a077a0-dfc3-4b20-ad99-c8e2cca01595",
   "metadata": {},
   "outputs": [],
   "source": [
    "os.environ[\"WANDB_API_KEY\"] = \"my key\"\n",
    "wandb.login()"
   ]
  },
  {
   "cell_type": "code",
   "execution_count": null,
   "id": "7de66639-0ec1-4324-9f64-e0604be1be80",
   "metadata": {},
   "outputs": [],
   "source": [
    "WANDB_PROJECT = \"my project name\"\n",
    "WANDB_ENTITY = \"my account name\""
   ]
  },
  {
   "cell_type": "code",
   "execution_count": null,
   "id": "6430d732-624f-4ee5-b560-d1d86cfbc21f",
   "metadata": {},
   "outputs": [],
   "source": [
    "wandb.init(project=WANDB_PROJECT, entity=WANDB_ENTITY)"
   ]
  },
  {
   "cell_type": "code",
   "execution_count": null,
   "id": "c53b8766-a8cf-4481-b1db-c8835d4e43e9",
   "metadata": {},
   "outputs": [],
   "source": [
    "config = yaml.safe_load(open('config.yaml'))"
   ]
  },
  {
   "cell_type": "code",
   "execution_count": null,
   "id": "28bb9824-4ef7-414d-a26c-917d39ce25fd",
   "metadata": {},
   "outputs": [],
   "source": [
    "REPRO_SEED = conf['seeds']['repro_seed']\n",
    "helpers.enable_reproducability(REPRO_SEED)"
   ]
  },
  {
   "cell_type": "code",
   "execution_count": null,
   "id": "be42b3e7-690c-4cef-b5a8-282a096ea2ab",
   "metadata": {},
   "outputs": [],
   "source": [
    "os.environ[\"CUDA_VISIBLE_DEVICES\"]=\"0\""
   ]
  },
  {
   "cell_type": "code",
   "execution_count": null,
   "id": "86d7c233-63af-4f2d-bc48-fd3dea22d43d",
   "metadata": {},
   "outputs": [],
   "source": [
    "print(\"GPU is available: \", torch.cuda.is_available())\n",
    "device = torch.device('cuda' if torch.cuda.is_available() else 'cpu')"
   ]
  },
  {
   "cell_type": "markdown",
   "id": "231ede4c-6d8a-4384-b1f0-8482a051dbac",
   "metadata": {},
   "source": [
    "## Hyperparameters"
   ]
  },
  {
   "cell_type": "code",
   "execution_count": null,
   "id": "79da3fe7-aaa3-4709-abd6-31e3c36feb88",
   "metadata": {},
   "outputs": [],
   "source": [
    "RANDOM_SEED = config['seeds']['sampling_seed']\n",
    "\n",
    "MAX_SEQ_LEN = 128\n",
    "TRAIN_BATCH_SIZE = 64\n",
    "EVAL_BATCH_SIZE = 64\n",
    "LEARNING_RATE = 2e-5 \n",
    "#WEIGHT_DECAY = 0.1"
   ]
  },
  {
   "cell_type": "markdown",
   "id": "2a0b8120-6c8c-4b2b-ab93-b90481a02be1",
   "metadata": {},
   "source": [
    "## Load and Prepare Data"
   ]
  },
  {
   "cell_type": "code",
   "execution_count": null,
   "id": "c2f73c5b-467a-45bc-9b61-fe95dd9ab68c",
   "metadata": {},
   "outputs": [],
   "source": [
    "# load data\n",
    "train_df = pd.read_pickle('domain_adaption/data/train_domain.pkl')\n",
    "val_df = pd.read_pickle('domain_adaption/data/val_domain.pkl')\n",
    "len(train_df), len(val_df)"
   ]
  },
  {
   "cell_type": "code",
   "execution_count": null,
   "id": "0196377a-0446-472a-8541-e90bb1ff1608",
   "metadata": {},
   "outputs": [],
   "source": [
    "train = train_df[['text']]\n",
    "val = val_df[['text']]"
   ]
  },
  {
   "cell_type": "code",
   "execution_count": null,
   "id": "fef42a0d-0008-4154-825b-0dbd4bf3c5ca",
   "metadata": {},
   "outputs": [],
   "source": [
    "# Convert to Dataset object\n",
    "train_dataset = Dataset.from_pandas(train[['text']].dropna())\n",
    "valid_dataset = Dataset.from_pandas(val[['text']].dropna())"
   ]
  },
  {
   "cell_type": "code",
   "execution_count": null,
   "id": "09afe3c7-409c-43df-9da1-5d0e5a52b902",
   "metadata": {},
   "outputs": [],
   "source": [
    "tokenizer = BertTokenizer.from_pretrained('deepset/gbert-base')\n",
    "model = AutoModelForMaskedLM.from_pretrained('deepset/gbert-base').to(device) "
   ]
  },
  {
   "cell_type": "markdown",
   "id": "fe60b73c-93c1-4873-aef4-d4ebe2e0a98a",
   "metadata": {},
   "source": [
    "## Tokenization"
   ]
  },
  {
   "cell_type": "code",
   "execution_count": null,
   "id": "09aa45bf-029f-47fa-b333-90b18273f6e2",
   "metadata": {},
   "outputs": [],
   "source": [
    "def tokenize_function(row):\n",
    "    return tokenizer(\n",
    "        row['text'],\n",
    "        padding='max_length',\n",
    "        truncation=True,\n",
    "        max_length=MAX_SEQ_LEN,\n",
    "        return_special_tokens_mask=True)\n",
    "  \n",
    "column_names = train_dataset.column_names\n",
    "\n",
    "train_dataset = train_dataset.map(\n",
    "    tokenize_function,\n",
    "    batched=True,\n",
    "    num_proc=multiprocessing.cpu_count(),\n",
    "    remove_columns=column_names,\n",
    ")\n",
    "\n",
    "valid_dataset = valid_dataset.map(\n",
    "    tokenize_function,\n",
    "    batched=True,\n",
    "    num_proc=multiprocessing.cpu_count(),\n",
    "    remove_columns=column_names,\n",
    ")"
   ]
  },
  {
   "cell_type": "code",
   "execution_count": null,
   "id": "3f123afb-b867-4cd2-9ebc-374d23dc2c33",
   "metadata": {},
   "outputs": [],
   "source": [
    "data_collator = DataCollatorForLanguageModeling(\n",
    "    tokenizer=tokenizer, mlm=True, mlm_probability=0.15\n",
    ")"
   ]
  },
  {
   "cell_type": "code",
   "execution_count": null,
   "id": "fb55232f-b14a-4627-b1b7-4473db1a967f",
   "metadata": {},
   "outputs": [],
   "source": [
    "from datetime import date\n",
    "date = date.today()"
   ]
  },
  {
   "cell_type": "code",
   "execution_count": null,
   "id": "78d260e1-3932-40bc-a8f8-67e37b5aa52c",
   "metadata": {},
   "outputs": [],
   "source": [
    "callback = EarlyStoppingCallback(early_stopping_patience=2)"
   ]
  },
  {
   "cell_type": "code",
   "execution_count": null,
   "id": "2b6f2a88-aea5-49ec-a329-fee10635981e",
   "metadata": {},
   "outputs": [],
   "source": [
    "training_args = TrainingArguments(\n",
    "    output_dir='output_path',\n",
    "    num_train_epochs=20,\n",
    "    per_device_train_batch_size=TRAIN_BATCH_SIZE,\n",
    "    per_device_eval_batch_size=EVAL_BATCH_SIZE,\n",
    "    learning_rate=LEARNING_RATE, \n",
    "    evaluation_strategy='epoch',\n",
    "    logging_strategy= 'epoch',\n",
    "    overwrite_output_dir=True,\n",
    "    log_level= 'error',\n",
    "    save_strategy='epoch',\n",
    "    load_best_model_at_end=True,\n",
    "    metric_for_best_model='eval_loss', \n",
    "    report_to='wandb',\n",
    "    disable_tqdm= False,\n",
    ")\n",
    "\n",
    "\n",
    "trainer = Trainer(\n",
    "    model=model,\n",
    "    args=training_args,\n",
    "    callbacks=[callback],\n",
    "    data_collator=data_collator,\n",
    "    train_dataset=train_dataset,\n",
    "    eval_dataset=valid_dataset,\n",
    "    tokenizer=tokenizer,\n",
    ")\n",
    "\n",
    "trainer.train()\n",
    "#trainer.save_model(\"domain_adaption/model\") #save your custom model"
   ]
  }
 ],
 "metadata": {
  "kernelspec": {
   "display_name": "transwandb",
   "language": "python",
   "name": "transwandb"
  },
  "language_info": {
   "codemirror_mode": {
    "name": "ipython",
    "version": 3
   },
   "file_extension": ".py",
   "mimetype": "text/x-python",
   "name": "python",
   "nbconvert_exporter": "python",
   "pygments_lexer": "ipython3",
   "version": "3.10.8"
  }
 },
 "nbformat": 4,
 "nbformat_minor": 5
}