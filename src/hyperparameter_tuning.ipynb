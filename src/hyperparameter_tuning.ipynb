{
 "cells": [
  {
   "cell_type": "code",
   "execution_count": null,
   "id": "4d0a552e-299d-4b8f-ba9c-e3e276b0bdab",
   "metadata": {},
   "outputs": [],
   "source": [
    "import pandas as pd\n",
    "import os\n",
    "import numpy as np\n",
    "import wandb \n",
    "import torch\n",
    "import yaml\n",
    "import import_ipynb\n",
    "from transformers import AutoTokenizer, AutoModelForSequenceClassification, AutoConfig   \n",
    "from transformers import TrainingArguments, Trainer, EarlyStoppingCallback\n",
    "from transformers import set_seed, enable_full_determinism\n",
    "from datasets import Dataset, DatasetDict, disable_caching"
   ]
  },
  {
   "cell_type": "code",
   "execution_count": null,
   "id": "17fe66e6-fa58-4b3d-828c-26291d71107d",
   "metadata": {},
   "outputs": [],
   "source": [
    "disable_caching()"
   ]
  },
  {
   "cell_type": "code",
   "execution_count": null,
   "id": "d8d0c3c9-8e5c-41f4-a691-8f140d21d4ef",
   "metadata": {},
   "outputs": [],
   "source": [
    "import helpers"
   ]
  },
  {
   "cell_type": "code",
   "execution_count": null,
   "id": "13df6c08-aa10-4404-a716-303781fbcebe",
   "metadata": {},
   "outputs": [],
   "source": [
    "os.environ[\"WANDB_API_KEY\"] = \"my key\"\n",
    "wandb.login()"
   ]
  },
  {
   "cell_type": "markdown",
   "id": "1cc1d207-27ba-43e8-99e8-14f55181d724",
   "metadata": {
    "tags": []
   },
   "source": [
    "## Import config "
   ]
  },
  {
   "cell_type": "code",
   "execution_count": null,
   "id": "e82529f4-b4ca-46eb-8dbb-9b04a52412c3",
   "metadata": {},
   "outputs": [],
   "source": [
    "conf = yaml.safe_load(open('config.yaml'))"
   ]
  },
  {
   "cell_type": "code",
   "execution_count": null,
   "id": "aa09c562-e53f-4791-9276-482b2e770469",
   "metadata": {},
   "outputs": [],
   "source": [
    "config_model = conf['sweep_model']"
   ]
  },
  {
   "cell_type": "markdown",
   "id": "7a2b4337-65fc-47ff-8c84-8fe7bde0842d",
   "metadata": {},
   "source": [
    "## Reproducability"
   ]
  },
  {
   "cell_type": "code",
   "execution_count": null,
   "id": "7dd83628-74b3-424b-9fd9-18a31dd67fa2",
   "metadata": {},
   "outputs": [],
   "source": [
    "REPRO_SEED = conf['seeds']['repro_seed']\n",
    "helpers.enable_reproducability(REPRO_SEED)"
   ]
  },
  {
   "cell_type": "markdown",
   "id": "d3c6d726-77c1-44a8-9018-113a2289ae02",
   "metadata": {},
   "source": [
    "## Setup Torch Device"
   ]
  },
  {
   "cell_type": "code",
   "execution_count": null,
   "id": "5e5fee1c-dec1-4504-9c3e-6d5c241c172b",
   "metadata": {},
   "outputs": [],
   "source": [
    "os.environ[\"CUDA_VISIBLE_DEVICES\"]=\"1\""
   ]
  },
  {
   "cell_type": "code",
   "execution_count": null,
   "id": "b90b8336-7a3a-41e7-be24-ce20404a83fd",
   "metadata": {},
   "outputs": [],
   "source": [
    "print(\"GPU is available: \", torch.cuda.is_available())\n",
    "device = torch.device('cuda' if torch.cuda.is_available() else 'cpu')"
   ]
  },
  {
   "cell_type": "markdown",
   "id": "b035e7b7-8734-4fe7-883a-e9133d6cd7a8",
   "metadata": {},
   "source": [
    "## Prepare Data"
   ]
  },
  {
   "cell_type": "code",
   "execution_count": null,
   "id": "b59b0f58-f59b-41f8-b60a-40f62af4933d",
   "metadata": {},
   "outputs": [],
   "source": [
    "MODEL = config_model['model']\n",
    "SAMPLING_SEED = conf['seeds']['sampling_seed']"
   ]
  },
  {
   "cell_type": "code",
   "execution_count": null,
   "id": "31412bd9-d6f8-4141-b0fd-1bee6b8bb5ed",
   "metadata": {},
   "outputs": [],
   "source": [
    "train = pd.read_pickle('path_to_data/train.pkl')\n",
    "val = pd.read_pickle('path_to_data/val.pkl')"
   ]
  },
  {
   "cell_type": "code",
   "execution_count": null,
   "id": "65268180-6af2-424b-8c3f-83dde5f39218",
   "metadata": {},
   "outputs": [],
   "source": [
    "tokenizer = AutoTokenizer.from_pretrained(MODEL)"
   ]
  },
  {
   "cell_type": "code",
   "execution_count": null,
   "id": "19619f65-184e-4b1e-8153-621f69d0f111",
   "metadata": {},
   "outputs": [],
   "source": [
    "def tokenize(batch):\n",
    "    return tokenizer(batch[\"text\"], padding=True, truncation=True)\n",
    "\n",
    "def prepare_data(train, val, remove_footer, remove_emojis, downsampling, sampling_seed):\n",
    "    if downsampling:\n",
    "        train = helpers.downsample(train, sampling_seed)\n",
    "    \n",
    "    train = helpers.select_text(train, remove_footer, remove_emojis)\n",
    "    val = helpers.select_text(val, remove_footer, remove_emojis)\n",
    "    \n",
    "    train_ds = Dataset.from_pandas(train[[\"text\", \"label\"]])\n",
    "    val_ds = Dataset.from_pandas(val[[\"text\", \"label\"]])\n",
    "    \n",
    "    ds = DatasetDict({\"train\": train_ds, \"validation\": val_ds})\n",
    "    ds_encoded = ds.map(tokenize)\n",
    "    \n",
    "    ds_encoded['train'] = ds_encoded['train'].remove_columns([\"text\", \"__index_level_0__\", \"token_type_ids\"])\n",
    "    ds_encoded['validation'] = ds_encoded['validation'].remove_columns([\"text\", \"__index_level_0__\", \"token_type_ids\"])\n",
    "    \n",
    "    return ds_encoded"
   ]
  },
  {
   "cell_type": "code",
   "execution_count": null,
   "id": "9b70bf13-7fe0-4d59-9ce8-4e2b0ec9bd92",
   "metadata": {},
   "outputs": [],
   "source": [
    "t_tmp = train.copy()\n",
    "v_tmp = val.copy()\n",
    "tt = prepare_data(t_tmp, v_tmp, remove_footer=True, remove_emojis=True, downsampling=False, sampling_seed=SAMPLING_SEED)"
   ]
  },
  {
   "cell_type": "code",
   "execution_count": null,
   "id": "bb02cad9-bece-411c-8155-f85ce889d666",
   "metadata": {},
   "outputs": [],
   "source": [
    "t_tmp = train.copy()\n",
    "v_tmp = val.copy()\n",
    "ttd = prepare_data(t_tmp, v_tmp, remove_footer=True, remove_emojis=True, downsampling=True, sampling_seed=SAMPLING_SEED)"
   ]
  },
  {
   "cell_type": "code",
   "execution_count": null,
   "id": "b57422d3-6bf8-4422-a877-1053ced7c3cb",
   "metadata": {},
   "outputs": [],
   "source": [
    "t_tmp = train.copy()\n",
    "v_tmp = val.copy()\n",
    "ff = prepare_data(t_tmp, v_tmp, remove_footer=False, remove_emojis=False, downsampling=False, sampling_seed=SAMPLING_SEED)"
   ]
  },
  {
   "cell_type": "code",
   "execution_count": null,
   "id": "99580808-f410-408b-85b5-e53a911fb3bb",
   "metadata": {},
   "outputs": [],
   "source": [
    "t_tmp = train.copy()\n",
    "v_tmp = val.copy()\n",
    "ffd = prepare_data(t_tmp, v_tmp, remove_footer=False, remove_emojis=False, downsampling=True, sampling_seed=SAMPLING_SEED)  "
   ]
  },
  {
   "cell_type": "code",
   "execution_count": null,
   "id": "4c3d9efc-f675-4910-bd52-830649dac610",
   "metadata": {},
   "outputs": [],
   "source": [
    "t_tmp = train.copy()\n",
    "v_tmp = val.copy()\n",
    "tf = prepare_data(t_tmp, v_tmp, remove_footer=True, remove_emojis=False, downsampling=False, sampling_seed=SAMPLING_SEED) "
   ]
  },
  {
   "cell_type": "code",
   "execution_count": null,
   "id": "a1e15af0-e94c-4143-a4b1-27fa68cb22c4",
   "metadata": {},
   "outputs": [],
   "source": [
    "t_tmp = train.copy()\n",
    "v_tmp = val.copy()\n",
    "tfd = prepare_data(t_tmp, v_tmp, remove_footer=True, remove_emojis=False, downsampling=True, sampling_seed=SAMPLING_SEED)"
   ]
  },
  {
   "cell_type": "code",
   "execution_count": null,
   "id": "c3b9132c-a7e0-4221-b6d0-5cbd7d94b274",
   "metadata": {},
   "outputs": [],
   "source": [
    "t_tmp = train.copy()\n",
    "v_tmp = val.copy()\n",
    "ft = prepare_data(t_tmp, v_tmp, remove_footer=False, remove_emojis=True, downsampling=False, sampling_seed=SAMPLING_SEED)"
   ]
  },
  {
   "cell_type": "code",
   "execution_count": null,
   "id": "7f835cda-f92c-4eb6-b71c-0d039e6fec28",
   "metadata": {},
   "outputs": [],
   "source": [
    "t_tmp = train.copy()\n",
    "v_tmp = val.copy()\n",
    "ftd = prepare_data(t_tmp, v_tmp, remove_footer=False, remove_emojis=True, downsampling=True, sampling_seed=SAMPLING_SEED)"
   ]
  },
  {
   "cell_type": "markdown",
   "id": "76018f98-0bd1-4a9f-963c-0d61e6fd099c",
   "metadata": {},
   "source": [
    "## Sweep config"
   ]
  },
  {
   "cell_type": "markdown",
   "id": "c796246e-314d-4559-82d6-30671f16e238",
   "metadata": {},
   "source": [
    "### For bayesian hyperparameter tuning:\n",
    "- Change configuration to 'sweep_config_bayes' \n",
    "- Adapt trainig arguments settings in train function"
   ]
  },
  {
   "cell_type": "code",
   "execution_count": null,
   "id": "097630a9-602d-4eb5-9860-6805d1ae5d69",
   "metadata": {},
   "outputs": [],
   "source": [
    "sweep_config = conf['sweep_config_grid']\n",
    "sweep_config['parameters']= sweep_config['sweep_parameters']\n",
    "sweep_trainingargs = sweep_config['sweep_trainingargs']"
   ]
  },
  {
   "cell_type": "markdown",
   "id": "e6860f8e-6eff-41bb-a7e4-11d0223abadf",
   "metadata": {},
   "source": [
    "## Inizialize sweep"
   ]
  },
  {
   "cell_type": "code",
   "execution_count": null,
   "id": "9ffd4b2f-6f5c-4f8b-9275-2452ae2f2523",
   "metadata": {},
   "outputs": [],
   "source": [
    "sweep_id = wandb.sweep(sweep_config, project='project name')"
   ]
  },
  {
   "cell_type": "code",
   "execution_count": null,
   "id": "0f5e567f-805c-4af9-9a1e-4525a25c8ab8",
   "metadata": {},
   "outputs": [],
   "source": [
    "def train(config=None):\n",
    "\n",
    "    with wandb.init(config=config, resume=True):\n",
    "\n",
    "        # set sweep configuration\n",
    "        config = wandb.config\n",
    "\n",
    "        # select data \n",
    "        remove_footer = config.remove_footer\n",
    "        remove_emojis = config.remove_emojis\n",
    "        downsampling = config.downsampling\n",
    "\n",
    "        if remove_footer:\n",
    "            if remove_emojis:\n",
    "                if downsampling:\n",
    "                    ds_encoded = ttd\n",
    "                else:\n",
    "                    ds_encoded = tt\n",
    "            else:\n",
    "                if downsampling:\n",
    "                    ds_encoded = tfd\n",
    "                else:\n",
    "                    ds_encoded = tf\n",
    "        else:\n",
    "            if remove_emojis:\n",
    "                if downsampling:\n",
    "                    ds_encoded = ftd\n",
    "                else:\n",
    "                    ds_encoded = ft\n",
    "            else:\n",
    "                if downsampling:\n",
    "                    ds_encoded = ffd\n",
    "                else:\n",
    "                    ds_encoded = ff  \n",
    "                    \n",
    "                    \n",
    "        # set training arguments\n",
    "        training_args = TrainingArguments(\n",
    "        output_dir=\"output_path \",\n",
    "        report_to='wandb',  \n",
    "        num_train_epochs=config.epochs,\n",
    "        learning_rate=config.learning_rate,\n",
    "        weight_decay=config.weight_decay,\n",
    "        per_device_train_batch_size=config.batch_size,\n",
    "        per_device_eval_batch_size=sweep_trainingargs['per_device_eval_batch_size'],\n",
    "        save_strategy=sweep_trainingargs['save_strategy'],\n",
    "        evaluation_strategy=sweep_trainingargs['evaluation_strategy'],\n",
    "        metric_for_best_model=sweep_trainingargs['metric_for_best_model'],\n",
    "        load_best_model_at_end=sweep_trainingargs['load_best_model_at_end'],\n",
    "        remove_unused_columns=sweep_trainingargs['remove_unused_columns'],\n",
    "        logging_strategy=sweep_trainingargs['logging_strategy'],\n",
    "        log_level=sweep_trainingargs['log_level'],\n",
    "        disable_tqdm=sweep_trainingargs['disable_tqdm']\n",
    "        )\n",
    "        \n",
    "\n",
    "        def model_init():\n",
    "            \n",
    "            model_config = AutoConfig.from_pretrained(MODEL)\n",
    "            model_config.num_labels = config_model['num_labels']\n",
    "            model_config.hidden_dropout_prob = config.hidden_dropout_prob \n",
    "            model_config.attention_probs_dropout_prob = config.attention_probs_dropout_prob\n",
    "            \n",
    "            model = (AutoModelForSequenceClassification\n",
    "             .from_pretrained(MODEL, config=model_config)\n",
    "             .to(device))\n",
    "            return model\n",
    "        \n",
    "        # define training loop\n",
    "        trainer = Trainer(\n",
    "            model_init=model_init,\n",
    "            args=training_args,\n",
    "            train_dataset=ds_encoded[\"train\"],\n",
    "            eval_dataset=ds_encoded[\"validation\"],\n",
    "            tokenizer=tokenizer,\n",
    "            compute_metrics=helpers.compute_metrics\n",
    "        )\n",
    "\n",
    "        # start training loop\n",
    "        trainer.train()"
   ]
  },
  {
   "cell_type": "code",
   "execution_count": null,
   "id": "41451dd2-439f-42db-91d2-88af342602c2",
   "metadata": {},
   "outputs": [],
   "source": [
    "wandb.agent(sweep_id, function=train) # prive additionally number of runs if needed"
   ]
  }
 ],
 "metadata": {
  "kernelspec": {
   "display_name": "transwandb",
   "language": "python",
   "name": "transwandb"
  },
  "language_info": {
   "codemirror_mode": {
    "name": "ipython",
    "version": 3
   },
   "file_extension": ".py",
   "mimetype": "text/x-python",
   "name": "python",
   "nbconvert_exporter": "python",
   "pygments_lexer": "ipython3",
   "version": "3.10.8"
  }
 },
 "nbformat": 4,
 "nbformat_minor": 5
}