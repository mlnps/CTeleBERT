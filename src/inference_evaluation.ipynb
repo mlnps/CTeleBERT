{
 "cells": [
  {
   "cell_type": "markdown",
   "id": "d2abd7bc-2d38-4063-baad-a00d51cf478d",
   "metadata": {},
   "source": [
    "# Evaluation for Model Performance: Classification Report, Confusion Matrix, Distribution of Probabilites, Sub-Label and Stance"
   ]
  },
  {
   "cell_type": "markdown",
   "id": "b67df994-1284-4569-8e84-2342a1dabc03",
   "metadata": {},
   "source": [
    "## Imports, Load Model"
   ]
  },
  {
   "cell_type": "code",
   "execution_count": null,
   "id": "4e133399-8e37-4506-802c-be720f4d23ed",
   "metadata": {},
   "outputs": [],
   "source": [
    "import os \n",
    "from transformers import AutoTokenizer, AutoModelForSequenceClassification\n",
    "from transformers import TextClassificationPipeline as pipeline\n",
    "import pandas as pd\n",
    "import torch\n",
    "import yaml\n",
    "import wandb\n",
    "import import_ipynb\n",
    "from sklearn.metrics import classification_report\n",
    "import plotly.express as px"
   ]
  },
  {
   "cell_type": "code",
   "execution_count": null,
   "id": "f920b4f7-21ff-4269-9cf1-74a9506509bf",
   "metadata": {},
   "outputs": [],
   "source": [
    "import helpers"
   ]
  },
  {
   "cell_type": "code",
   "execution_count": null,
   "id": "fd76606e-ea75-4355-bcbd-e3ef7ff76c3a",
   "metadata": {},
   "outputs": [],
   "source": [
    "config = yaml.safe_load(open('config_ct.yaml'))"
   ]
  },
  {
   "cell_type": "code",
   "execution_count": null,
   "id": "7f8fd73d-3245-4fe9-bc1d-90d92b9d7aa1",
   "metadata": {},
   "outputs": [],
   "source": [
    "model_path = config['path_to_model']"
   ]
  },
  {
   "cell_type": "code",
   "execution_count": null,
   "id": "5560093c-bc4e-4866-8187-ef22776f5d38",
   "metadata": {},
   "outputs": [],
   "source": [
    "tokenizer = AutoTokenizer.from_pretrained(model_path, local_files_only=True)\n",
    "model = AutoModelForSequenceClassification.from_pretrained(model_path)\n",
    "\n",
    "classifier = pipeline(task=\"text-classification\", model=model, tokenizer=tokenizer, device=1)"
   ]
  },
  {
   "cell_type": "code",
   "execution_count": null,
   "id": "c7a3edba-8488-45c1-9230-49ed570d9a90",
   "metadata": {},
   "outputs": [],
   "source": [
    "def get_prediction(pipeline, text): \n",
    "    return pipeline(text, padding=True, truncation=True)"
   ]
  },
  {
   "cell_type": "code",
   "execution_count": null,
   "id": "fb5300ca-e965-4d12-8bda-390dd1d0172e",
   "metadata": {},
   "outputs": [],
   "source": [
    "def get_predictions(pipeline, texts):\n",
    "    res = pd.DataFrame(columns=['text', 'predicted_label', 'score'])\n",
    "    for text in texts:\n",
    "        result = get_prediction(pipeline, text)\n",
    "        d_temp = {'text': [text], 'predicted_label': [result[0]['label']], 'score': [result[0]['score']]}\n",
    "        df_temp = pd.DataFrame.from_dict(d_temp)\n",
    "        res = pd.concat([res,df_temp])\n",
    "    return res"
   ]
  },
  {
   "cell_type": "markdown",
   "id": "35fda240-95ee-45e9-837d-955ea032ebfc",
   "metadata": {},
   "source": [
    "## Make predictions using Pipeline()"
   ]
  },
  {
   "cell_type": "code",
   "execution_count": null,
   "id": "6fd9771e-0bf0-4cb7-aa13-f348b9345823",
   "metadata": {},
   "outputs": [],
   "source": [
    "raw = pd.read_pickle('path_to_data/dataset.pkl')"
   ]
  },
  {
   "cell_type": "code",
   "execution_count": null,
   "id": "c35428dd-847e-4157-bd2f-cff94f35156c",
   "metadata": {},
   "outputs": [],
   "source": [
    "df = helpers.select_text(df=raw.copy(), remove_emojis=False, remove_footer=False)"
   ]
  },
  {
   "cell_type": "code",
   "execution_count": null,
   "id": "3b671201-673e-448d-8f73-963679e1d9c2",
   "metadata": {},
   "outputs": [],
   "source": [
    "df.reset_index(drop=True, inplace=True)"
   ]
  },
  {
   "cell_type": "code",
   "execution_count": null,
   "id": "df3d7a51-fdac-4638-9e6d-9e13b666634d",
   "metadata": {},
   "outputs": [],
   "source": [
    "df.head()"
   ]
  },
  {
   "cell_type": "code",
   "execution_count": null,
   "id": "f1de3525-81d0-4b8a-9a13-4042e40836a0",
   "metadata": {},
   "outputs": [],
   "source": [
    "import warnings\n",
    "warnings.filterwarnings('ignore')\n",
    "preds = get_predictions(pipeline=classifier, texts=df.text.tolist())"
   ]
  },
  {
   "cell_type": "code",
   "execution_count": null,
   "id": "66fcb07a-0541-4712-8f33-d9fae72933ea",
   "metadata": {},
   "outputs": [],
   "source": [
    "preds['true_label'] = df.label.tolist()"
   ]
  },
  {
   "cell_type": "code",
   "execution_count": null,
   "id": "6387f939-0bfb-4b49-852f-ac91a94b7615",
   "metadata": {},
   "outputs": [],
   "source": [
    "preds.predicted_label= preds.predicted_label.map({'LABEL_0':0, 'LABEL_1': 1})"
   ]
  },
  {
   "cell_type": "markdown",
   "id": "88200f2e-1200-41e0-aec3-ff75a8fa64a9",
   "metadata": {},
   "source": [
    "### Print classification report"
   ]
  },
  {
   "cell_type": "code",
   "execution_count": null,
   "id": "ba7cf1b0-cc9a-46f9-bc71-9e08deed13be",
   "metadata": {},
   "outputs": [],
   "source": [
    "print(classification_report(preds['true_label'], preds['predicted_label']))"
   ]
  },
  {
   "cell_type": "markdown",
   "id": "ab30d4b9-39af-4807-8e45-d8f70b49b36a",
   "metadata": {},
   "source": [
    "## Confusion matrix"
   ]
  },
  {
   "cell_type": "code",
   "execution_count": null,
   "id": "36b9e052-bdad-4852-ad44-e7787317ad05",
   "metadata": {},
   "outputs": [],
   "source": [
    "from sklearn.metrics import ConfusionMatrixDisplay, confusion_matrix\n",
    "import matplotlib.pyplot as plt"
   ]
  },
  {
   "cell_type": "code",
   "execution_count": null,
   "id": "8d9df397-559f-4439-b1de-f48df970194f",
   "metadata": {},
   "outputs": [],
   "source": [
    "def plot_confusion_matrix(y_preds, y_true, labels):\n",
    "    cm = confusion_matrix(y_true, y_preds, normalize=\"true\")\n",
    "    fig, ax = plt.subplots(figsize=(6, 6))\n",
    "    disp = ConfusionMatrixDisplay(confusion_matrix=cm, display_labels=labels)\n",
    "    disp.plot(cmap=\"Blues\", values_format=\".2f\", ax=ax, colorbar=False)\n",
    "    plt.title(\"Normalized confusion matrix\")\n",
    "    plt.show()"
   ]
  },
  {
   "cell_type": "code",
   "execution_count": null,
   "id": "f74011d6-f3fd-4dbe-9480-ba87b1db331d",
   "metadata": {},
   "outputs": [],
   "source": [
    "plot_confusion_matrix(preds['predicted_label'], preds['true_label'], [\"Negative\", \"Positive\"])"
   ]
  },
  {
   "cell_type": "markdown",
   "id": "eb0c5920-33c7-4011-9864-8aca13ff6ed0",
   "metadata": {},
   "source": [
    "## Probability Distribution"
   ]
  },
  {
   "cell_type": "code",
   "execution_count": null,
   "id": "46dde31c-ce1c-43f0-8e41-f4eb93438202",
   "metadata": {},
   "outputs": [],
   "source": [
    "preds['prediction_correct'] = preds.apply(lambda x: (x.predicted_label==x.true_label), axis=1)"
   ]
  },
  {
   "cell_type": "code",
   "execution_count": null,
   "id": "5cd343e4-3643-46f5-8f17-916aad948ef0",
   "metadata": {},
   "outputs": [],
   "source": [
    "preds.prediction_correct = preds.prediction_correct.map({False:'not correct', True:'correct'})\n",
    "preds.predicted_label = preds.predicted_label.map({0:'negative', 1:'positive'})"
   ]
  },
  {
   "cell_type": "code",
   "execution_count": null,
   "id": "98b8da2e-8c11-45f7-bf37-afd72854dd5d",
   "metadata": {},
   "outputs": [],
   "source": [
    "fig = px.box(preds, x=\"prediction_correct\", y=\"score\", color=\"predicted_label\", width=1300, height=700, # points=\"all\",\n",
    "                              labels={\n",
    "                     \"prediction_correct\": \"prediction\",\n",
    "                     \"predicted_label\": \"predicted class\",\n",
    "                 })\n",
    "fig.update_layout(\n",
    "    font_size=20,\n",
    "    boxmode='group'\n",
    ")\n",
    "fig.show()"
   ]
  },
  {
   "cell_type": "markdown",
   "id": "6d64f226-655d-4ba0-bef6-010df9ce9c79",
   "metadata": {},
   "source": [
    "## Sub-Labels and Stance"
   ]
  },
  {
   "cell_type": "markdown",
   "id": "618fd173-888d-4a29-9d28-358872aa7fc6",
   "metadata": {},
   "source": [
    "Not shown: Regain stance and sub-labels for data; columns of df now"
   ]
  },
  {
   "cell_type": "markdown",
   "id": "ae0b7180-10b2-48b6-81a5-03fd2d70e63f",
   "metadata": {},
   "source": [
    "Columns of df after merge: \"label\", \"text\", \"actor\", \"strategy\", \"goal\", \"reference\", \"pandemic reference\", \"belief\", \"authenticating\", \"directive\", \"rhetorical question\"\n",
    "\n",
    "\n"
   ]
  },
  {
   "cell_type": "markdown",
   "id": "73a11217-def6-4ee7-97bb-17494ff22bae",
   "metadata": {},
   "source": [
    "## Exemplary: Sub-labels"
   ]
  },
  {
   "cell_type": "code",
   "execution_count": null,
   "id": "fc546bf5-4084-46ac-bda2-d9b8a8a80c6d",
   "metadata": {},
   "outputs": [],
   "source": [
    "combos = df.groupby([\"actor\", \"strategy\", \"goal\", \"reference\"]).size().reset_index().rename(columns={0:'count'})\n",
    "combos['count_corr'] = 0\n",
    "combos['count_incorr'] = 0"
   ]
  },
  {
   "cell_type": "code",
   "execution_count": null,
   "id": "260b6882-7aa4-4a9d-90dc-ef935a7bbc82",
   "metadata": {},
   "outputs": [],
   "source": [
    "for index, row in combos.iterrows():\n",
    "    df_temp = df[(df.actor==row['actor'])&(df.strategy==row['strategy'])&(df.goal==row['goal'])&(df.reference==row['reference'])]\n",
    "    values = df_temp.prediction_correct.value_counts()\n",
    "    if True in values:\n",
    "        combos.loc[index, 'count_corr'] = df_temp.prediction_correct.value_counts()[True]\n",
    "    else:\n",
    "        combos.loc[index, 'count_corr'] = 0\n",
    "    if False in values:\n",
    "        combos.loc[index, 'count_incorr'] = df_temp.prediction_correct.value_counts()[False]\n",
    "    else:\n",
    "        combos.loc[index, 'count_incorr'] = 0"
   ]
  },
  {
   "cell_type": "code",
   "execution_count": null,
   "id": "9673cb51-ff3a-4597-8691-a8d43b15fb6b",
   "metadata": {},
   "outputs": [],
   "source": [
    "combos['count_corr_norm'] = 0\n",
    "combos['count_incorr_norm'] = 0\n",
    "\n",
    "for index, row in combos.iterrows():\n",
    "    perc_true = row['count_corr']/row['count']\n",
    "    perc_false = row['count_incorr']/row['count']\n",
    "    combos.loc[index, 'count_corr_norm'] = perc_true\n",
    "    combos.loc[index, 'count_incorr_norm'] = perc_false"
   ]
  }
 ],
 "metadata": {
  "kernelspec": {
   "display_name": "transwandb",
   "language": "python",
   "name": "transwandb"
  },
  "language_info": {
   "codemirror_mode": {
    "name": "ipython",
    "version": 3
   },
   "file_extension": ".py",
   "mimetype": "text/x-python",
   "name": "python",
   "nbconvert_exporter": "python",
   "pygments_lexer": "ipython3",
   "version": "3.10.8"
  }
 },
 "nbformat": 4,
 "nbformat_minor": 5
}