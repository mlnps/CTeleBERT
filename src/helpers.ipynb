{
 "cells": [
  {
   "cell_type": "code",
   "execution_count": null,
   "id": "800655f8-8d6b-4027-a699-386d9e648a14",
   "metadata": {},
   "outputs": [],
   "source": [
    "import pandas as pd\n",
    "from sklearn.metrics import precision_recall_fscore_support, accuracy_score\n",
    "from transformers import set_seed, enable_full_determinism"
   ]
  },
  {
   "cell_type": "code",
   "execution_count": null,
   "id": "ac087c43-1ffd-4fde-b94f-35675a4c205b",
   "metadata": {},
   "outputs": [],
   "source": [
    "def enable_reproducability(repro_seed):\n",
    "    set_seed(repro_seed)\n",
    "    enable_full_determinism(repro_seed)"
   ]
  },
  {
   "cell_type": "code",
   "execution_count": null,
   "id": "87f98997-8eac-4bef-a77f-59f084e0e9a0",
   "metadata": {},
   "outputs": [],
   "source": [
    "def select_text(df, remove_footer, remove_emojis):\n",
    "    if remove_footer:\n",
    "        if remove_emojis:\n",
    "            df.rename(columns={\"no_footer_no_replacement_words_no_emoji\": \"text\"}, inplace=True) \n",
    "        else: \n",
    "            df.rename(columns={\"no_footer_no_replacement_words\": \"text\"}, inplace=True)\n",
    "    else:\n",
    "        if remove_emojis:\n",
    "            df.rename(columns={\"no_replacement_words_no_emoji\": \"text\"}, inplace=True)  \n",
    "        else:\n",
    "            df.rename(columns={\"no_replacement_words\": \"text\"}, inplace=True)\n",
    "\n",
    "    df['text'] = df['text'].astype(str)\n",
    "    df = df[['text', 'label']]\n",
    "    \n",
    "    print('Length of df: ', len(df)) \n",
    "\n",
    "    return df"
   ]
  },
  {
   "cell_type": "code",
   "execution_count": null,
   "id": "d915b885-d658-4bf6-86b1-4cba6d93ed63",
   "metadata": {},
   "outputs": [],
   "source": [
    "def downsample(train, sampling_seed):\n",
    "    train_pos = train[train.label==1]\n",
    "    train_neg = train.query('(label==0)').sample(n=len(train_pos), random_state=sampling_seed)\n",
    "    train = pd.concat([train_neg,train_pos])\n",
    "    train = train.sample(frac=1, random_state=sampling_seed)\n",
    "    return train"
   ]
  },
  {
   "cell_type": "code",
   "execution_count": null,
   "id": "17d0c506-71ab-4256-a704-c54141ca511b",
   "metadata": {},
   "outputs": [],
   "source": [
    "def compute_metrics(pred):\n",
    "    labels = pred.label_ids\n",
    "    preds = pred.predictions.argmax(-1)\n",
    "    precision, recall, f1, _ = precision_recall_fscore_support(labels, preds, average='binary', pos_label=1)\n",
    "    precision0, recall0, f10, _ = precision_recall_fscore_support(labels, preds, average='binary', pos_label=0)\n",
    "    acc = accuracy_score(labels, preds)\n",
    "    return {\n",
    "        'accuracy': acc,\n",
    "        'f1_1': f1,\n",
    "        'precision_1': precision,\n",
    "        'recall_1': recall,\n",
    "        'f1_0': f10,\n",
    "        'precision_0': precision0,\n",
    "        'recall_0': recall0\n",
    "    }"
   ]
  }
 ],
 "metadata": {
  "kernelspec": {
   "display_name": "transwandb",
   "language": "python",
   "name": "transwandb"
  },
  "language_info": {
   "codemirror_mode": {
    "name": "ipython",
    "version": 3
   },
   "file_extension": ".py",
   "mimetype": "text/x-python",
   "name": "python",
   "nbconvert_exporter": "python",
   "pygments_lexer": "ipython3",
   "version": "3.10.8"
  }
 },
 "nbformat": 4,
 "nbformat_minor": 5
}
