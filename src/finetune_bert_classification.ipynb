{
 "cells": [
  {
   "cell_type": "markdown",
   "metadata": {},
   "source": [
    "# Fine-tune BERT Model for classification Task via Transformers library and including Logging to W&B"
   ]
  },
  {
   "cell_type": "markdown",
   "metadata": {},
   "source": [
    "#### This Notebook contains all necessary Code to fine-tune a BERT model and some extra Code. Adapt to your needs."
   ]
  },
  {
   "cell_type": "markdown",
   "metadata": {
    "id": "rmKxzfIlyuFn"
   },
   "source": [
    "## Imports, Logins"
   ]
  },
  {
   "cell_type": "code",
   "execution_count": null,
   "metadata": {
    "colab": {
     "background_save": true
    },
    "id": "Q3Em2zrpxU-H"
   },
   "outputs": [],
   "source": [
    "import pandas as pd\n",
    "import numpy as np\n",
    "import os\n",
    "import wandb \n",
    "import torch\n",
    "import import_ipynb\n",
    "import yaml\n",
    "from sadice import SelfAdjDiceLoss\n",
    "from transformers import AutoTokenizer, AutoModelForSequenceClassification, AutoConfig   \n",
    "from transformers import TrainingArguments, Trainer, EarlyStoppingCallback\n",
    "from transformers import set_seed, enable_full_determinism\n",
    "from datasets import Dataset, DatasetDict, disable_caching\n",
    "from datasets import disable_caching"
   ]
  },
  {
   "cell_type": "code",
   "execution_count": null,
   "metadata": {
    "colab": {
     "background_save": true
    },
    "id": "ixM6mr0NQfID"
   },
   "outputs": [],
   "source": [
    "disable_caching()"
   ]
  },
  {
   "cell_type": "code",
   "execution_count": null,
   "metadata": {
    "colab": {
     "background_save": true
    },
    "id": "UVR1yfQ6N7sM"
   },
   "outputs": [],
   "source": [
    "import helpers"
   ]
  },
  {
   "cell_type": "markdown",
   "metadata": {},
   "source": [
    "## Import internal config "
   ]
  },
  {
   "cell_type": "code",
   "execution_count": null,
   "metadata": {},
   "outputs": [],
   "source": [
    "conf = yaml.safe_load(open('config.yaml'))"
   ]
  },
  {
   "cell_type": "markdown",
   "metadata": {
    "tags": []
   },
   "source": [
    "## Reproducability"
   ]
  },
  {
   "cell_type": "code",
   "execution_count": null,
   "metadata": {},
   "outputs": [],
   "source": [
    "REPRO_SEED = conf['seeds']['repro_seed']\n",
    "helpers.enable_reproducability(REPRO_SEED)"
   ]
  },
  {
   "cell_type": "markdown",
   "metadata": {},
   "source": [
    "## Setup W&B"
   ]
  },
  {
   "cell_type": "code",
   "execution_count": null,
   "metadata": {
    "id": "4L2zDffTyMmd"
   },
   "outputs": [],
   "source": [
    "os.environ[\"WANDB_API_KEY\"] = \"my key\"\n",
    "wandb.login()"
   ]
  },
  {
   "cell_type": "code",
   "execution_count": null,
   "metadata": {},
   "outputs": [],
   "source": [
    "# WANDB PARAMS\n",
    "WANDB = True\n",
    "WANDB_PROJECT = \"project name \"\n",
    "WANDB_ENTITY = \"project account name\""
   ]
  },
  {
   "cell_type": "markdown",
   "metadata": {
    "id": "WymWRTfIy_7d"
   },
   "source": [
    "## Setup Torch Device\n"
   ]
  },
  {
   "cell_type": "code",
   "execution_count": null,
   "metadata": {},
   "outputs": [],
   "source": [
    "os.environ[\"CUDA_VISIBLE_DEVICES\"]=\"1\""
   ]
  },
  {
   "cell_type": "code",
   "execution_count": null,
   "metadata": {
    "id": "vXct8sNK0mfV"
   },
   "outputs": [],
   "source": [
    "print(\"GPU is available: \", torch.cuda.is_available())\n",
    "device = torch.device('cuda' if torch.cuda.is_available() else 'cpu')"
   ]
  },
  {
   "cell_type": "markdown",
   "metadata": {},
   "source": [
    "## If needed: Load Config of Model to Rerun (Here W&B)"
   ]
  },
  {
   "cell_type": "code",
   "execution_count": null,
   "metadata": {},
   "outputs": [],
   "source": [
    "import wandb\n",
    "api = wandb.Api()"
   ]
  },
  {
   "cell_type": "code",
   "execution_count": null,
   "metadata": {},
   "outputs": [],
   "source": [
    "run = api.run(\"path_to_run\")\n",
    "config_run = run.config"
   ]
  },
  {
   "cell_type": "code",
   "execution_count": null,
   "metadata": {},
   "outputs": [],
   "source": [
    "configs = {} # several runs can be loaded and compared \n",
    "configs['run_name'] = config_spring"
   ]
  },
  {
   "cell_type": "markdown",
   "metadata": {
    "id": "9l8HsY79Me3g",
    "tags": []
   },
   "source": [
    "## Prepare Data"
   ]
  },
  {
   "cell_type": "code",
   "execution_count": null,
   "metadata": {},
   "outputs": [],
   "source": [
    "TEMP_MODEL = 'run_name' # only nevessary when using training configurations stored in configs dictionary\n",
    "MODEL = configs[TEMP_MODEL]['model'] # alt: provide (path to) model checkpint\n",
    "SAMPLING_SEED = configs[TEMP_MODEL]['sampling_seed']"
   ]
  },
  {
   "cell_type": "code",
   "execution_count": null,
   "metadata": {
    "id": "BRCmLoB3-TT3"
   },
   "outputs": [],
   "source": [
    "train = pd.read_pickle('path_to_data/train.pkl')\n",
    "val = pd.read_pickle('path_to_data/val.pkl')"
   ]
  },
  {
   "cell_type": "code",
   "execution_count": null,
   "metadata": {},
   "outputs": [],
   "source": [
    "tokenizer = AutoTokenizer.from_pretrained(MODEL)"
   ]
  },
  {
   "cell_type": "code",
   "execution_count": null,
   "metadata": {},
   "outputs": [],
   "source": [
    "def tokenize(batch):\n",
    "    return tokenizer(batch[\"text\"], padding=True, truncation=True)\n",
    "\n",
    "def prepare_data(train, val, remove_footer, remove_emojis, downsampling, sampling_seed):\n",
    "    if downsampling:\n",
    "        train = helpers.downsample(train, sampling_seed)\n",
    "    \n",
    "    train = helpers.select_text(train, remove_footer, remove_emojis)\n",
    "    val = helpers.select_text(val, remove_footer, remove_emojis)\n",
    "    \n",
    "    train_ds = Dataset.from_pandas(train[[\"text\", \"label\"]])\n",
    "    val_ds = Dataset.from_pandas(val[[\"text\", \"label\"]])\n",
    "    \n",
    "    ds = DatasetDict({\"train\": train_ds, \"validation\": val_ds})\n",
    "    ds_encoded = ds.map(tokenize)\n",
    "    \n",
    "    ds_encoded['train'] = ds_encoded['train'].remove_columns([\"text\", \"__index_level_0__\"]) #, \"token_type_ids\"])\n",
    "    ds_encoded['validation'] = ds_encoded['validation'].remove_columns([\"text\", \"__index_level_0__\"])#, \"token_type_ids\"])\n",
    "    \n",
    "    return ds_encoded"
   ]
  },
  {
   "cell_type": "code",
   "execution_count": null,
   "metadata": {},
   "outputs": [],
   "source": [
    "ds_encoded = prepare_data(train, val, remove_footer=configs[TEMP_MODEL]['remove_footer'], remove_emojis=configs[TEMP_MODEL]['remove_emojis'], downsampling=configs[TEMP_MODEL]['downsampling'], sampling_seed=SAMPLING_SEED)"
   ]
  },
  {
   "cell_type": "markdown",
   "metadata": {
    "id": "zvrrWs3kAZ1b"
   },
   "source": [
    "## Training"
   ]
  },
  {
   "cell_type": "code",
   "execution_count": null,
   "metadata": {},
   "outputs": [],
   "source": [
    "from datetime import date\n",
    "date = date.today()"
   ]
  },
  {
   "cell_type": "markdown",
   "metadata": {
    "id": "oxQUJyVxBR1l"
   },
   "source": [
    "### Training params"
   ]
  },
  {
   "cell_type": "markdown",
   "metadata": {},
   "source": [
    "#### Change according to your needs"
   ]
  },
  {
   "cell_type": "code",
   "execution_count": null,
   "metadata": {
    "id": "hq-oXY-DBPxu"
   },
   "outputs": [],
   "source": [
    "NUM_EPOCHS =  configs[TEMP_MODEL]['epochs']\n",
    "EVAL_BATCH_SIZE = configs[TEMP_MODEL]['per_device_eval_batch_size']\n",
    "TRAIN_BATCH_SIZE = configs[TEMP_MODEL]['batch_size']\n",
    "LEARNING_RATE = configs[TEMP_MODEL]['learning_rate'] \n",
    "WEIGHT_DECAY = configs[TEMP_MODEL]['weight_decay']\n",
    "HIDDEN_DROPOUT_PROB = configs[TEMP_MODEL]['hidden_dropout_prob'] \n",
    "ATTENTION_PROBS_DROPOUT_PROB = configs[TEMP_MODEL]['attention_probs_dropout_prob']\n",
    "\n",
    "\n",
    "OUTPUT_DIR = 'output_path'\n",
    "OVERWRITE_OUTPUT_DIR = True \n",
    "LOG_LEVEL = configs[TEMP_MODEL]['log_level']\n",
    "EVALUATION_STRATEGY = configs[TEMP_MODEL]['evaluation_strategy'] \n",
    "SAVE_STRATEGY =configs[TEMP_MODEL]['save_strategy']\n",
    "LOGGING_STRATEGY=configs[TEMP_MODEL]['logging_strategy']\n",
    "LOAD_BEST_MODEL_AT_END = True,\n",
    "METRIC_FOR_BEST_MODEL=configs[TEMP_MODEL]['metric_for_best_model']\n",
    "REMOVE_UNUSED_COLUMNS=configs[TEMP_MODEL]['remove_unused_columns']\n",
    "DISABLE_TQDM=configs[TEMP_MODEL]['disable_tqdm']"
   ]
  },
  {
   "cell_type": "markdown",
   "metadata": {
    "id": "E6FFczwRCBNS"
   },
   "source": [
    "### Training"
   ]
  },
  {
   "cell_type": "code",
   "execution_count": null,
   "metadata": {
    "id": "vF0B-sjzB95W"
   },
   "outputs": [],
   "source": [
    "training_args = TrainingArguments(\n",
    "    output_dir=OUTPUT_DIR, \n",
    "    overwrite_output_dir=OVERWRITE_OUTPUT_DIR, \n",
    "    log_level=LOG_LEVEL, \n",
    "    num_train_epochs=NUM_EPOCHS,\n",
    "    per_device_train_batch_size=TRAIN_BATCH_SIZE,\n",
    "    per_device_eval_batch_size=EVAL_BATCH_SIZE, \n",
    "    evaluation_strategy=EVALUATION_STRATEGY,\n",
    "    save_strategy=SAVE_STRATEGY,\n",
    "    weight_decay=WEIGHT_DECAY,\n",
    "    learning_rate=LEARNING_RATE,\n",
    "    logging_strategy=LOGGING_STRATEGY,\n",
    "    disable_tqdm=DISABLE_TQDM,\n",
    "    load_best_model_at_end=LOAD_BEST_MODEL_AT_END,\n",
    "    metric_for_best_model=METRIC_FOR_BEST_MODEL,\n",
    "    remove_unused_columns=REMOVE_UNUSED_COLUMNS,\n",
    "    report_to=\"wandb\",\n",
    "    #save_total_limit=1\n",
    "    )"
   ]
  },
  {
   "cell_type": "code",
   "execution_count": null,
   "metadata": {
    "id": "UiW9wWUPAbto"
   },
   "outputs": [],
   "source": [
    "# Add extra Information to be uploded to W&B\n",
    "if WANDB:\n",
    "    config = dict (  \n",
    "      remove_emojis = configs[TEMP_MODEL]['remove_emojis'],\n",
    "      remove_footer = configs[TEMP_MODEL]['remove_footer'],\n",
    "      sampling_seed = SAMPLING_SEED,\n",
    "      repro_seed = REPRO_SEED,\n",
    "      downsampling = configs[TEMP_MODEL]['downsampling'],\n",
    "  )\n",
    "    wandb.init(project=WANDB_PROJECT, entity=WANDB_ENTITY, config=config)\n",
    "\n",
    "else:\n",
    "    wandb.init(mode=\"disabled\") "
   ]
  },
  {
   "cell_type": "code",
   "execution_count": null,
   "metadata": {},
   "outputs": [],
   "source": [
    "# For Dice Loss:\n",
    "\n",
    "#class CustomTrainer(Trainer):\n",
    "#    def compute_loss(self,model, inputs, return_outputs=False):\n",
    "#        \n",
    "#        criterion = SelfAdjDiceLoss()\n",
    "#        labels = inputs.get(\"labels\")\n",
    "#        # forward pass\n",
    "#        outputs = model(**inputs)\n",
    "#        logits = outputs.get(\"logits\")\n",
    "#        loss = criterion(logits, labels)\n",
    "#        return (loss, outputs) if return_outputs else loss"
   ]
  },
  {
   "cell_type": "code",
   "execution_count": null,
   "metadata": {
    "id": "MdHZhzVPLzvK"
   },
   "outputs": [],
   "source": [
    "def model_init():\n",
    "    model_config = AutoConfig.from_pretrained(MODEL)\n",
    "    model_config.hidden_dropout_prob = HIDDEN_DROPOUT_PROB \n",
    "    model_config.attention_probs_dropout_prob = ATTENTION_PROBS_DROPOUT_PROB\n",
    "    model_config.num_labels = 2\n",
    "    model = (AutoModelForSequenceClassification\n",
    "         .from_pretrained(MODEL, config=model_config)\n",
    "         .to(device))\n",
    "    return model"
   ]
  },
  {
   "cell_type": "code",
   "execution_count": null,
   "metadata": {
    "id": "4NhQ34vNC9fX"
   },
   "outputs": [],
   "source": [
    "trainer = Trainer(model_init=model_init,  args=training_args,\n",
    "                  compute_metrics=helpers.compute_metrics,\n",
    "                  train_dataset=ds_encoded[\"train\"],\n",
    "                  eval_dataset=ds_encoded[\"validation\"],\n",
    "                  tokenizer=tokenizer)"
   ]
  },
  {
   "cell_type": "code",
   "execution_count": null,
   "metadata": {
    "colab": {
     "background_save": true
    },
    "id": "ff2ANR4IDCiR",
    "outputId": "8491e559-46ad-497b-b29f-da0998f47fce"
   },
   "outputs": [],
   "source": [
    "trainer.train();"
   ]
  },
  {
   "cell_type": "code",
   "execution_count": null,
   "metadata": {},
   "outputs": [],
   "source": [
    "trainer.save_model() "
   ]
  }
 ],
 "metadata": {
  "accelerator": "GPU",
  "colab": {
   "authorship_tag": "ABX9TyMFN3Bs3NJF0Y0ITZPZeAR1",
   "collapsed_sections": [
    "oxQUJyVxBR1l"
   ],
   "machine_shape": "hm",
   "name": "",
   "version": ""
  },
  "gpuClass": "premium",
  "kernelspec": {
   "display_name": "transwandb",
   "language": "python",
   "name": "transwandb"
  },
  "language_info": {
   "codemirror_mode": {
    "name": "ipython",
    "version": 3
   },
   "file_extension": ".py",
   "mimetype": "text/x-python",
   "name": "python",
   "nbconvert_exporter": "python",
   "pygments_lexer": "ipython3",
   "version": "3.10.8"
  }
 },
 "nbformat": 4,
 "nbformat_minor": 4
}